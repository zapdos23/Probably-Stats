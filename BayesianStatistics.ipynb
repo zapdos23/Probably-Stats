{
  "nbformat": 4,
  "nbformat_minor": 0,
  "metadata": {
    "colab": {
      "name": "BayesianStatistics.ipynb",
      "provenance": [],
      "toc_visible": true
    },
    "kernelspec": {
      "name": "python3",
      "display_name": "Python 3"
    },
    "accelerator": "GPU"
  },
  "cells": [
    {
      "cell_type": "code",
      "metadata": {
        "id": "Tc8ChqsWF8-G",
        "colab_type": "code",
        "colab": {}
      },
      "source": [
        "# REQUIRES DATASET MENTIONED IN THE WEBSITE BELOW\n",
        "\n",
        "# https://towardsdatascience.com/hands-on-bayesian-statistics-with-python-pymc3-arviz-499db9a59501"
      ],
      "execution_count": 0,
      "outputs": []
    },
    {
      "cell_type": "code",
      "metadata": {
        "id": "xKHqfJoO_wt_",
        "colab_type": "code",
        "colab": {
          "base_uri": "https://localhost:8080/",
          "height": 68
        },
        "outputId": "4effc46c-93d4-4527-e502-171bcbd3ac2f"
      },
      "source": [
        "!pip install -q arviz"
      ],
      "execution_count": 2,
      "outputs": [
        {
          "output_type": "stream",
          "text": [
            "\u001b[K     |████████████████████████████████| 1.5MB 8.1MB/s \n",
            "\u001b[K     |████████████████████████████████| 4.1MB 69kB/s \n",
            "\u001b[K     |████████████████████████████████| 337kB 66.6MB/s \n",
            "\u001b[?25h"
          ],
          "name": "stdout"
        }
      ]
    },
    {
      "cell_type": "code",
      "metadata": {
        "id": "HPEeAg6sgnNB",
        "colab_type": "code",
        "colab": {
          "base_uri": "https://localhost:8080/",
          "height": 71
        },
        "outputId": "d618bdcb-b2f9-4ab3-d5b9-3af453525bec"
      },
      "source": [
        "from scipy import stats\n",
        "import pymc3 as pm\n",
        "import arviz as az\n",
        "import matplotlib.pyplot as plt\n",
        "import numpy as np\n",
        "import seaborn as sns\n",
        "import pandas as pd\n",
        "from theano import shared\n",
        "from sklearn import preprocessing\n"
      ],
      "execution_count": 3,
      "outputs": [
        {
          "output_type": "stream",
          "text": [
            "/usr/local/lib/python3.6/dist-packages/statsmodels/tools/_testing.py:19: FutureWarning: pandas.util.testing is deprecated. Use the functions in the public API at pandas.testing instead.\n",
            "  import pandas.util.testing as tm\n"
          ],
          "name": "stderr"
        }
      ]
    },
    {
      "cell_type": "code",
      "metadata": {
        "id": "JEE0ifNiCxyH",
        "colab_type": "code",
        "colab": {
          "base_uri": "https://localhost:8080/",
          "height": 34
        },
        "outputId": "d2d43ab4-b7a2-4099-86ae-eeabb96baede"
      },
      "source": [
        "print (\"running on PyMC3 v{}\".format(pm.__version__))"
      ],
      "execution_count": 4,
      "outputs": [
        {
          "output_type": "stream",
          "text": [
            "running on PyMC3 v3.7\n"
          ],
          "name": "stdout"
        }
      ]
    },
    {
      "cell_type": "code",
      "metadata": {
        "id": "Ci1NY8X_DGxn",
        "colab_type": "code",
        "colab": {}
      },
      "source": [
        "data = pd.read_csv(\"/content/downloadedData.csv\")"
      ],
      "execution_count": 0,
      "outputs": []
    },
    {
      "cell_type": "code",
      "metadata": {
        "id": "9gy9AQ3FDQ0f",
        "colab_type": "code",
        "colab": {
          "base_uri": "https://localhost:8080/",
          "height": 289
        },
        "outputId": "39318667-a650-4feb-ace1-8fbfc107249f"
      },
      "source": [
        "data.head(5)"
      ],
      "execution_count": 6,
      "outputs": [
        {
          "output_type": "execute_result",
          "data": {
            "text/html": [
              "<div>\n",
              "<style scoped>\n",
              "    .dataframe tbody tr th:only-of-type {\n",
              "        vertical-align: middle;\n",
              "    }\n",
              "\n",
              "    .dataframe tbody tr th {\n",
              "        vertical-align: top;\n",
              "    }\n",
              "\n",
              "    .dataframe thead th {\n",
              "        text-align: right;\n",
              "    }\n",
              "</style>\n",
              "<table border=\"1\" class=\"dataframe\">\n",
              "  <thead>\n",
              "    <tr style=\"text-align: right;\">\n",
              "      <th></th>\n",
              "      <th>insert_date</th>\n",
              "      <th>origin</th>\n",
              "      <th>destination</th>\n",
              "      <th>start_date</th>\n",
              "      <th>end_date</th>\n",
              "      <th>train_type</th>\n",
              "      <th>price</th>\n",
              "      <th>train_class</th>\n",
              "      <th>fare</th>\n",
              "    </tr>\n",
              "  </thead>\n",
              "  <tbody>\n",
              "    <tr>\n",
              "      <th>0</th>\n",
              "      <td>2019-04-22 08:00:25</td>\n",
              "      <td>MADRID</td>\n",
              "      <td>SEVILLA</td>\n",
              "      <td>2019-04-28 08:30:00</td>\n",
              "      <td>2019-04-28 11:14:00</td>\n",
              "      <td>ALVIA</td>\n",
              "      <td>NaN</td>\n",
              "      <td>Turista</td>\n",
              "      <td>Flexible</td>\n",
              "    </tr>\n",
              "    <tr>\n",
              "      <th>1</th>\n",
              "      <td>2019-04-22 10:03:24</td>\n",
              "      <td>MADRID</td>\n",
              "      <td>VALENCIA</td>\n",
              "      <td>2019-05-20 06:45:00</td>\n",
              "      <td>2019-05-20 08:38:00</td>\n",
              "      <td>AVE</td>\n",
              "      <td>21.95</td>\n",
              "      <td>Turista</td>\n",
              "      <td>Promo</td>\n",
              "    </tr>\n",
              "    <tr>\n",
              "      <th>2</th>\n",
              "      <td>2019-04-25 19:19:46</td>\n",
              "      <td>MADRID</td>\n",
              "      <td>SEVILLA</td>\n",
              "      <td>2019-05-29 06:20:00</td>\n",
              "      <td>2019-05-29 09:16:00</td>\n",
              "      <td>AV City</td>\n",
              "      <td>38.55</td>\n",
              "      <td>Turista</td>\n",
              "      <td>Promo</td>\n",
              "    </tr>\n",
              "    <tr>\n",
              "      <th>3</th>\n",
              "      <td>2019-04-24 06:21:57</td>\n",
              "      <td>SEVILLA</td>\n",
              "      <td>MADRID</td>\n",
              "      <td>2019-05-03 08:35:00</td>\n",
              "      <td>2019-05-03 15:26:00</td>\n",
              "      <td>LD-MD</td>\n",
              "      <td>34.35</td>\n",
              "      <td>Turista con enlace</td>\n",
              "      <td>Promo +</td>\n",
              "    </tr>\n",
              "    <tr>\n",
              "      <th>4</th>\n",
              "      <td>2019-04-19 21:13:55</td>\n",
              "      <td>VALENCIA</td>\n",
              "      <td>MADRID</td>\n",
              "      <td>2019-05-10 09:40:00</td>\n",
              "      <td>2019-05-10 11:20:00</td>\n",
              "      <td>AVE</td>\n",
              "      <td>45.30</td>\n",
              "      <td>Turista</td>\n",
              "      <td>Promo</td>\n",
              "    </tr>\n",
              "  </tbody>\n",
              "</table>\n",
              "</div>"
            ],
            "text/plain": [
              "           insert_date    origin  ...         train_class      fare\n",
              "0  2019-04-22 08:00:25    MADRID  ...             Turista  Flexible\n",
              "1  2019-04-22 10:03:24    MADRID  ...             Turista     Promo\n",
              "2  2019-04-25 19:19:46    MADRID  ...             Turista     Promo\n",
              "3  2019-04-24 06:21:57   SEVILLA  ...  Turista con enlace   Promo +\n",
              "4  2019-04-19 21:13:55  VALENCIA  ...             Turista     Promo\n",
              "\n",
              "[5 rows x 9 columns]"
            ]
          },
          "metadata": {
            "tags": []
          },
          "execution_count": 6
        }
      ]
    },
    {
      "cell_type": "code",
      "metadata": {
        "id": "A6YQqkslDqT5",
        "colab_type": "code",
        "colab": {}
      },
      "source": [
        "data = data.sample(frac=0.01, random_state=99)\n"
      ],
      "execution_count": 0,
      "outputs": []
    },
    {
      "cell_type": "code",
      "metadata": {
        "id": "E12WGG77Ehzu",
        "colab_type": "code",
        "colab": {
          "base_uri": "https://localhost:8080/",
          "height": 193
        },
        "outputId": "0bb49c39-a30d-4fd6-e907-3b2e669d0404"
      },
      "source": [
        "data.head(3)"
      ],
      "execution_count": 8,
      "outputs": [
        {
          "output_type": "execute_result",
          "data": {
            "text/html": [
              "<div>\n",
              "<style scoped>\n",
              "    .dataframe tbody tr th:only-of-type {\n",
              "        vertical-align: middle;\n",
              "    }\n",
              "\n",
              "    .dataframe tbody tr th {\n",
              "        vertical-align: top;\n",
              "    }\n",
              "\n",
              "    .dataframe thead th {\n",
              "        text-align: right;\n",
              "    }\n",
              "</style>\n",
              "<table border=\"1\" class=\"dataframe\">\n",
              "  <thead>\n",
              "    <tr style=\"text-align: right;\">\n",
              "      <th></th>\n",
              "      <th>insert_date</th>\n",
              "      <th>origin</th>\n",
              "      <th>destination</th>\n",
              "      <th>start_date</th>\n",
              "      <th>end_date</th>\n",
              "      <th>train_type</th>\n",
              "      <th>price</th>\n",
              "      <th>train_class</th>\n",
              "      <th>fare</th>\n",
              "    </tr>\n",
              "  </thead>\n",
              "  <tbody>\n",
              "    <tr>\n",
              "      <th>4738</th>\n",
              "      <td>2019-04-17 08:03:35</td>\n",
              "      <td>VALENCIA</td>\n",
              "      <td>MADRID</td>\n",
              "      <td>2019-05-21 08:00:00</td>\n",
              "      <td>2019-05-21 09:47:00</td>\n",
              "      <td>AVE</td>\n",
              "      <td>33.65</td>\n",
              "      <td>Turista</td>\n",
              "      <td>Promo</td>\n",
              "    </tr>\n",
              "    <tr>\n",
              "      <th>8722</th>\n",
              "      <td>2019-05-09 07:12:41</td>\n",
              "      <td>MADRID</td>\n",
              "      <td>BARCELONA</td>\n",
              "      <td>2019-05-25 08:30:00</td>\n",
              "      <td>2019-05-25 11:15:00</td>\n",
              "      <td>AVE</td>\n",
              "      <td>85.10</td>\n",
              "      <td>Turista</td>\n",
              "      <td>Promo</td>\n",
              "    </tr>\n",
              "    <tr>\n",
              "      <th>13185</th>\n",
              "      <td>2019-04-24 11:21:26</td>\n",
              "      <td>MADRID</td>\n",
              "      <td>VALENCIA</td>\n",
              "      <td>2019-05-22 17:40:00</td>\n",
              "      <td>2019-05-22 19:20:00</td>\n",
              "      <td>AVE</td>\n",
              "      <td>51.15</td>\n",
              "      <td>Turista</td>\n",
              "      <td>Promo</td>\n",
              "    </tr>\n",
              "  </tbody>\n",
              "</table>\n",
              "</div>"
            ],
            "text/plain": [
              "               insert_date    origin destination  ...  price train_class   fare\n",
              "4738   2019-04-17 08:03:35  VALENCIA      MADRID  ...  33.65     Turista  Promo\n",
              "8722   2019-05-09 07:12:41    MADRID   BARCELONA  ...  85.10     Turista  Promo\n",
              "13185  2019-04-24 11:21:26    MADRID    VALENCIA  ...  51.15     Turista  Promo\n",
              "\n",
              "[3 rows x 9 columns]"
            ]
          },
          "metadata": {
            "tags": []
          },
          "execution_count": 8
        }
      ]
    },
    {
      "cell_type": "code",
      "metadata": {
        "id": "61gcv3SaGYuf",
        "colab_type": "code",
        "colab": {
          "base_uri": "https://localhost:8080/",
          "height": 187
        },
        "outputId": "b785c9f9-4227-4fd0-bf58-5a5e1209372e"
      },
      "source": [
        "data.isnull().sum()/len(data)"
      ],
      "execution_count": 9,
      "outputs": [
        {
          "output_type": "execute_result",
          "data": {
            "text/plain": [
              "insert_date    0.000000\n",
              "origin         0.000000\n",
              "destination    0.000000\n",
              "start_date     0.000000\n",
              "end_date       0.000000\n",
              "train_type     0.000000\n",
              "price          0.096899\n",
              "train_class    0.000000\n",
              "fare           0.000000\n",
              "dtype: float64"
            ]
          },
          "metadata": {
            "tags": []
          },
          "execution_count": 9
        }
      ]
    },
    {
      "cell_type": "code",
      "metadata": {
        "id": "O1jlTRq8GiW6",
        "colab_type": "code",
        "colab": {}
      },
      "source": [
        "data['train_class'] = data['train_class'].fillna(data['train_class'].mode().iloc[0])\n",
        "data['fare'] = data['fare'].fillna(data['fare'].mode().iloc[0])\n",
        "data['price'] = data.groupby('fare').transform(lambda x: x.fillna(x.mean()))"
      ],
      "execution_count": 0,
      "outputs": []
    },
    {
      "cell_type": "code",
      "metadata": {
        "id": "m6_fecWCG7MQ",
        "colab_type": "code",
        "colab": {
          "base_uri": "https://localhost:8080/",
          "height": 303
        },
        "outputId": "4039a9a0-9924-485c-e51b-d631befcf2e3"
      },
      "source": [
        "az.plot_kde(data['price'].values, rug=True)\n",
        "plt.yticks([0], alpha=0)"
      ],
      "execution_count": 11,
      "outputs": [
        {
          "output_type": "execute_result",
          "data": {
            "text/plain": [
              "([<matplotlib.axis.YTick at 0x7f95d9a804a8>],\n",
              " <a list of 1 Text major ticklabel objects>)"
            ]
          },
          "metadata": {
            "tags": []
          },
          "execution_count": 11
        },
        {
          "output_type": "display_data",
          "data": {
            "image/png": "[encoded data removed]",
            "text/plain": [
              "<Figure size 432x288 with 1 Axes>"
            ]
          },
          "metadata": {
            "tags": []
          }
        }
      ]
    },
    {
      "cell_type": "code",
      "metadata": {
        "id": "6PJC8-hVPOoz",
        "colab_type": "code",
        "colab": {}
      },
      "source": [
        "from scipy.stats import norm\n",
        "\n",
        "x = np.array([3.4, 5.7, 8.8, 5, 3, 5.6, 7.9, 0.9, 3.3, 2.8, 1.7, 7.6, 5.9, 3.5, 4, 4.8])\n"
      ],
      "execution_count": 0,
      "outputs": []
    },
    {
      "cell_type": "code",
      "metadata": {
        "id": "yjZh43Y_wVtF",
        "colab_type": "code",
        "colab": {}
      },
      "source": [
        "minimum = np.min(x)\n",
        "maximum = np.max(x)\n",
        "\n",
        "#x_axis = np.arange(minimum, maximum, 5000)\n",
        "\n",
        "x_axis = np.linspace(minimum, maximum, 1000)\n",
        "\n",
        "y_axis = []\n",
        "\n",
        "for i in range(len(x)):\n",
        "  if i == 0:\n",
        "    y_axis = (np.exp(-1*np.square((x_axis - x[i])/2.0)))/np.sqrt(2*np.pi)\n",
        "  else:\n",
        "    y_axis += (np.exp(-1*np.square((x_axis - x[i])/2.0)))/np.sqrt(2*np.pi)\n",
        "  \n",
        "    \n",
        "\n",
        "\n",
        "    #y_axis = np.exp(-np.square(x_axis-x[i])/2)/(np.sqrt(2*np.pi))\n",
        "    #else:\n",
        "    #y_axis += np.exp(-np.square(x_axis-x[i])/2)/(np.sqrt(2*np.pi))\n"
      ],
      "execution_count": 0,
      "outputs": []
    },
    {
      "cell_type": "code",
      "metadata": {
        "id": "KVpBAMXOwp0j",
        "colab_type": "code",
        "colab": {
          "base_uri": "https://localhost:8080/",
          "height": 282
        },
        "outputId": "a739fc71-076d-462e-a8fa-b2a036ec6efe"
      },
      "source": [
        "plt.plot(x_axis, y_axis)"
      ],
      "execution_count": 49,
      "outputs": [
        {
          "output_type": "execute_result",
          "data": {
            "text/plain": [
              "[<matplotlib.lines.Line2D at 0x7f95d8c3ec88>]"
            ]
          },
          "metadata": {
            "tags": []
          },
          "execution_count": 49
        },
        {
          "output_type": "display_data",
          "data": {
            "image/png": "[encoded data removed]",
            "text/plain": [
              "<Figure size 432x288 with 1 Axes>"
            ]
          },
          "metadata": {
            "tags": []
          }
        }
      ]
    }
  ]
}