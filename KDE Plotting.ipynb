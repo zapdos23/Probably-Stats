{
  "nbformat": 4,
  "nbformat_minor": 0,
  "metadata": {
    "colab": {
      "name": "KernelDensityEstimation.ipynb",
      "provenance": []
    },
    "kernelspec": {
      "name": "python3",
      "display_name": "Python 3"
    }
  },
  "cells": [
    {
      "cell_type": "markdown",
      "metadata": {
        "id": "aBrwP2Zy_wCh",
        "colab_type": "text"
      },
      "source": [
        "# **Kernel Density Estimation (KDE)**\n",
        "\n",
        "We are used to drawing histograms of datasets. Those clunky rectangles in histograms are not easy to deal with mathematically (as they are non-differentiable and discontinuous). Had they been differentiable, we could have analysed some of the properties of the dataset easily. \n",
        "\n",
        "KDEs are plots that are used to mimic the shape of the histogram. And they are differentiable(therefore continuous).\n",
        "\n",
        "## So How Does One Make a KDE Plot\n",
        "\n",
        "Let us first review the process of making histograms: We divide the range in which our datapoints lie, into bins of some fixed size. Then for each data point falling in a particular bin, we plot a box function (with the raised part overlapping with the interval spanning the bin. \n",
        "We do this for all the data points. \n",
        "\n",
        "We end up with many box functions littered over the range. We then sum the functions vertically and obtain our histogram.\n",
        "\n",
        "To get a KDE plot, we make a slight change: Instead of using the box function, we use a differentiable function, say, the gaussian function (centred around the data point).\n",
        "\n",
        "While there are functions we can use for making KDE plots, I have restricted myself to using the standard normal distribution (a specific gaussian function)."
      ]
    },
    {
      "cell_type": "code",
      "metadata": {
        "id": "S5-k504d--K4",
        "colab_type": "code",
        "colab": {}
      },
      "source": [
        "from scipy import stats\n",
        "import matplotlib.pyplot as plt\n",
        "import numpy as np\n",
        "from scipy.stats import norm"
      ],
      "execution_count": 0,
      "outputs": []
    },
    {
      "cell_type": "code",
      "metadata": {
        "id": "o-U6LH04I-z-",
        "colab_type": "code",
        "colab": {}
      },
      "source": [
        "from scipy.stats import norm\n",
        "\n",
        "# The dataset we wish to make a KDE plot for\n",
        "x = np.array([3.4, 5.7, 8.8, 5, 3, 5.6, 7.9, 0.9, 3.3, 2.8, 1.7, 7.6, 5.9, 3.5, 4, 4.8])"
      ],
      "execution_count": 0,
      "outputs": []
    },
    {
      "cell_type": "markdown",
      "metadata": {
        "id": "5CuseH-oJ7vq",
        "colab_type": "text"
      },
      "source": [
        "## What the histogram looks like"
      ]
    },
    {
      "cell_type": "code",
      "metadata": {
        "id": "G5LKCkvwJOmm",
        "colab_type": "code",
        "colab": {
          "base_uri": "https://localhost:8080/",
          "height": 282
        },
        "outputId": "fc53d8d4-639d-443c-8dcc-9d28c7873fe2"
      },
      "source": [
        "plt.hist(x, density=True, bins=20)\n",
        "plt.plot()"
      ],
      "execution_count": 6,
      "outputs": [
        {
          "output_type": "execute_result",
          "data": {
            "text/plain": [
              "[]"
            ]
          },
          "metadata": {
            "tags": []
          },
          "execution_count": 6
        },
        {
          "output_type": "display_data",
          "data": {
            "image/png": "[encoded data removed]",
            "text/plain": [
              "<Figure size 432x288 with 1 Axes>"
            ]
          },
          "metadata": {
            "tags": []
          }
        }
      ]
    },
    {
      "cell_type": "markdown",
      "metadata": {
        "id": "L6D891KQKGjH",
        "colab_type": "text"
      },
      "source": [
        "## Making the KDE plot"
      ]
    },
    {
      "cell_type": "code",
      "metadata": {
        "id": "pl_-oSMRKLbj",
        "colab_type": "code",
        "colab": {}
      },
      "source": [
        "minimum = np.min(x)\n",
        "maximum = np.max(x)\n",
        "\n",
        "#x_axis = np.arange(minimum, maximum, 5000)\n",
        "\n",
        "x_axis = np.linspace(minimum, maximum, 1000)\n",
        "\n",
        "y_axis = []\n",
        "\n",
        "for i in range(len(x)):\n",
        "  if i == 0:\n",
        "    y_axis = (np.exp(-1*np.square((x_axis - x[i])/2.0)))/np.sqrt(2*np.pi)\n",
        "  else:\n",
        "    y_axis += (np.exp(-1*np.square((x_axis - x[i])/2.0)))/np.sqrt(2*np.pi)"
      ],
      "execution_count": 0,
      "outputs": []
    },
    {
      "cell_type": "markdown",
      "metadata": {
        "id": "Zh-xj2K8Ky1o",
        "colab_type": "text"
      },
      "source": [
        "## What the KDE Plot looks like"
      ]
    },
    {
      "cell_type": "code",
      "metadata": {
        "id": "iRkEyiq9K3ZP",
        "colab_type": "code",
        "colab": {
          "base_uri": "https://localhost:8080/",
          "height": 282
        },
        "outputId": "2705c751-ab1d-44cb-ffd6-d02027655b60"
      },
      "source": [
        "plt.plot(x_axis, y_axis)"
      ],
      "execution_count": 9,
      "outputs": [
        {
          "output_type": "execute_result",
          "data": {
            "text/plain": [
              "[<matplotlib.lines.Line2D at 0x7f2f4c9b9d30>]"
            ]
          },
          "metadata": {
            "tags": []
          },
          "execution_count": 9
        },
        {
          "output_type": "display_data",
          "data": {
            "image/png": "[encoded data removed]",
            "text/plain": [
              "<Figure size 432x288 with 1 Axes>"
            ]
          },
          "metadata": {
            "tags": []
          }
        }
      ]
    },
    {
      "cell_type": "markdown",
      "metadata": {
        "id": "k4Q_RpqMLSY0",
        "colab_type": "text"
      },
      "source": [
        "### Superposing the histogram and the KDE"
      ]
    },
    {
      "cell_type": "code",
      "metadata": {
        "id": "Wm3hkNbpLaTu",
        "colab_type": "code",
        "colab": {
          "base_uri": "https://localhost:8080/",
          "height": 282
        },
        "outputId": "5aff753b-e5a1-4c26-cad9-654dad5fef77"
      },
      "source": [
        "plt.plot(x_axis, y_axis - 1.5) \n",
        "plt.hist(x, density=False, bins=20)\n",
        "plt.plot()"
      ],
      "execution_count": 12,
      "outputs": [
        {
          "output_type": "execute_result",
          "data": {
            "text/plain": [
              "[]"
            ]
          },
          "metadata": {
            "tags": []
          },
          "execution_count": 12
        },
        {
          "output_type": "display_data",
          "data": {
            "image/png": "[encoded data removed]",
            "text/plain": [
              "<Figure size 432x288 with 1 Axes>"
            ]
          },
          "metadata": {
            "tags": []
          }
        }
      ]
    },
    {
      "cell_type": "markdown",
      "metadata": {
        "id": "whnVuxPS6vpk",
        "colab_type": "text"
      },
      "source": [
        "### While the curve in blue plotted above is a legitimate KDE plot, one could be forgiven for being a little skeptical about the curve mimicing the shape of the histogram.\n",
        "\n",
        "### Lets make another KDE plot, but this time using a dataset containing points from the Gaussian distribution itself."
      ]
    },
    {
      "cell_type": "code",
      "metadata": {
        "id": "Rvn10OBS42Zm",
        "colab_type": "code",
        "colab": {}
      },
      "source": [
        "sample = np.random.normal(0, 1, 5000)\n",
        "minimum = np.min(sample)\n",
        "maximum = np.max(sample)\n",
        "\n",
        "#x_axis = np.arange(minimum, maximum, 500)\n",
        "\n",
        "x_axis = np.linspace(minimum, maximum, 1000)\n",
        "\n",
        "y_axis = []\n",
        "\n",
        "for i in range(len(sample)):\n",
        "  if i == 0:\n",
        "    y_axis = (np.exp(-1*np.square((x_axis - sample[i])/2.0)))/np.sqrt(2*np.pi)\n",
        "  else:\n",
        "    y_axis += (np.exp(-1*np.square((x_axis - sample[i])/2.0)))/np.sqrt(2*np.pi)"
      ],
      "execution_count": 0,
      "outputs": []
    },
    {
      "cell_type": "code",
      "metadata": {
        "id": "idWqcTvK5tZG",
        "colab_type": "code",
        "colab": {
          "base_uri": "https://localhost:8080/",
          "height": 265
        },
        "outputId": "393a6a1d-2693-4869-d18b-6a9868c1eaca"
      },
      "source": [
        "#plt.plot(x_axis, y_axis)\n",
        "plt.hist(sample, density=False, bins=10)\n",
        "plt.plot(x_axis, y_axis)\n",
        "plt.show()"
      ],
      "execution_count": 11,
      "outputs": [
        {
          "output_type": "display_data",
          "data": {
            "image/png": "[encoded data removed]",
            "text/plain": [
              "<Figure size 432x288 with 1 Axes>"
            ]
          },
          "metadata": {
            "tags": []
          }
        }
      ]
    }
  ]
}